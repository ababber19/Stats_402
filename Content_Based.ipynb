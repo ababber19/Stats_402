{
 "cells": [
  {
   "cell_type": "markdown",
   "id": "11a7ba23",
   "metadata": {},
   "source": [
    "# Data cleaning and preprocessing"
   ]
  },
  {
   "cell_type": "code",
   "execution_count": 4,
   "id": "b5451573",
   "metadata": {},
   "outputs": [
    {
     "ename": "ModuleNotFoundError",
     "evalue": "No module named 'scikit_learn'",
     "output_type": "error",
     "traceback": [
      "\u001b[0;31m---------------------------------------------------------------------------\u001b[0m",
      "\u001b[0;31mModuleNotFoundError\u001b[0m                       Traceback (most recent call last)",
      "Cell \u001b[0;32mIn [4], line 5\u001b[0m\n\u001b[1;32m      3\u001b[0m \u001b[38;5;28;01mimport\u001b[39;00m \u001b[38;5;21;01mseaborn\u001b[39;00m \u001b[38;5;28;01mas\u001b[39;00m \u001b[38;5;21;01msns\u001b[39;00m\n\u001b[1;32m      4\u001b[0m \u001b[38;5;28;01mimport\u001b[39;00m \u001b[38;5;21;01mast\u001b[39;00m\n\u001b[0;32m----> 5\u001b[0m \u001b[38;5;28;01mfrom\u001b[39;00m \u001b[38;5;21;01mscikit_learn\u001b[39;00m\u001b[38;5;21;01m.\u001b[39;00m\u001b[38;5;21;01mfeature_extraction\u001b[39;00m\u001b[38;5;21;01m.\u001b[39;00m\u001b[38;5;21;01mtext\u001b[39;00m \u001b[38;5;28;01mimport\u001b[39;00m TfidfVectorizer\n\u001b[1;32m      6\u001b[0m \u001b[38;5;28;01mfrom\u001b[39;00m \u001b[38;5;21;01msklearn\u001b[39;00m\u001b[38;5;21;01m.\u001b[39;00m\u001b[38;5;21;01mmetrics\u001b[39;00m\u001b[38;5;21;01m.\u001b[39;00m\u001b[38;5;21;01mpairwise\u001b[39;00m \u001b[38;5;28;01mimport\u001b[39;00m linear_kernel\n",
      "\u001b[0;31mModuleNotFoundError\u001b[0m: No module named 'scikit_learn'"
     ]
    }
   ],
   "source": [
    "import pandas as pd\n",
    "import numpy as np\n",
    "import seaborn as sns\n",
    "import ast\n",
    "from scikit_learn.feature_extraction.text import TfidfVectorizer\n",
    "from sklearn.metrics.pairwise import linear_kernel"
   ]
  },
  {
   "cell_type": "code",
   "execution_count": 5,
   "id": "0a861103",
   "metadata": {},
   "outputs": [],
   "source": [
    "# Commented dfs are not needed\n",
    "movies = pd.read_csv(\"tmdb_5000_movies.csv\")\n",
    "credits = pd.read_csv(\"tmdb_5000_credits.csv\")\n",
    "keywords = pd.read_csv(\"keywords.csv\")\n",
    "# ratings = pd.read_csv(\"ratings.csv\")\n",
    "# links = pd.read_csv(\"links.csv\")\n",
    "# metadata = pd.read_csv(\"movies_metadata.csv\")"
   ]
  },
  {
   "cell_type": "code",
   "execution_count": 6,
   "id": "4581ab36",
   "metadata": {},
   "outputs": [
    {
     "name": "stdout",
     "output_type": "stream",
     "text": [
      "Movies dataset:\n",
      "<class 'pandas.core.frame.DataFrame'>\n",
      "RangeIndex: 4803 entries, 0 to 4802\n",
      "Data columns (total 20 columns):\n",
      " #   Column                Non-Null Count  Dtype  \n",
      "---  ------                --------------  -----  \n",
      " 0   budget                4803 non-null   int64  \n",
      " 1   genres                4803 non-null   object \n",
      " 2   homepage              1712 non-null   object \n",
      " 3   id                    4803 non-null   int64  \n",
      " 4   keywords              4803 non-null   object \n",
      " 5   original_language     4803 non-null   object \n",
      " 6   original_title        4803 non-null   object \n",
      " 7   overview              4800 non-null   object \n",
      " 8   popularity            4803 non-null   float64\n",
      " 9   production_companies  4803 non-null   object \n",
      " 10  production_countries  4803 non-null   object \n",
      " 11  release_date          4802 non-null   object \n",
      " 12  revenue               4803 non-null   int64  \n",
      " 13  runtime               4801 non-null   float64\n",
      " 14  spoken_languages      4803 non-null   object \n",
      " 15  status                4803 non-null   object \n",
      " 16  tagline               3959 non-null   object \n",
      " 17  title                 4803 non-null   object \n",
      " 18  vote_average          4803 non-null   float64\n",
      " 19  vote_count            4803 non-null   int64  \n",
      "dtypes: float64(3), int64(4), object(13)\n",
      "memory usage: 750.6+ KB\n",
      "None\n",
      "\n",
      "Credits dataset:\n",
      "<class 'pandas.core.frame.DataFrame'>\n",
      "RangeIndex: 4803 entries, 0 to 4802\n",
      "Data columns (total 4 columns):\n",
      " #   Column    Non-Null Count  Dtype \n",
      "---  ------    --------------  ----- \n",
      " 0   movie_id  4803 non-null   int64 \n",
      " 1   title     4803 non-null   object\n",
      " 2   cast      4803 non-null   object\n",
      " 3   crew      4803 non-null   object\n",
      "dtypes: int64(1), object(3)\n",
      "memory usage: 150.2+ KB\n",
      "None\n",
      "\n",
      "Keywords dataset:\n",
      "<class 'pandas.core.frame.DataFrame'>\n",
      "RangeIndex: 46419 entries, 0 to 46418\n",
      "Data columns (total 2 columns):\n",
      " #   Column    Non-Null Count  Dtype \n",
      "---  ------    --------------  ----- \n",
      " 0   id        46419 non-null  int64 \n",
      " 1   keywords  46419 non-null  object\n",
      "dtypes: int64(1), object(1)\n",
      "memory usage: 725.4+ KB\n",
      "None\n"
     ]
    }
   ],
   "source": [
    "# Examine the datasets\n",
    "print(\"Movies dataset:\")\n",
    "# print(movies.head())\n",
    "print(movies.info())\n",
    "\n",
    "print(\"\\nCredits dataset:\")\n",
    "# print(credits.head())\n",
    "print(credits.info())\n",
    "\n",
    "print(\"\\nKeywords dataset:\")\n",
    "# print(keywords.head())\n",
    "print(keywords.info())\n",
    "\n",
    "# print(\"\\nRatings dataset:\")\n",
    "# print(ratings.head())\n",
    "# print(ratings.info())\n",
    "\n",
    "# print(\"\\nLinks dataset:\")\n",
    "# print(links.head())\n",
    "# print(links.info())\n",
    "\n",
    "# print(\"\\nMetadata dataset:\")\n",
    "# print(metadata.head())\n",
    "# print(metadata.info())"
   ]
  },
  {
   "cell_type": "code",
   "execution_count": 7,
   "id": "5e952344",
   "metadata": {},
   "outputs": [],
   "source": [
    "# Handle missing values\n",
    "# Only released movies to consider (not rumored, post-production)\n",
    "\n",
    "movies.fillna(\"\", inplace=True)\n",
    "movies = movies[movies[\"status\"]==\"Released\"]\n",
    "movies = movies.drop(columns=[\"homepage\", \"overview\", \"tagline\", \"status\"])\n",
    "\n",
    "\n",
    "credits.fillna(\"\", inplace=True)\n",
    "keywords.fillna(\"\", inplace=True)\n",
    "# ratings.fillna(\"\", inplace=True)\n",
    "# links.fillna(\"\", inplace=True)\n",
    "# metadata.fillna(\"\", inplace=True)"
   ]
  },
  {
   "cell_type": "code",
   "execution_count": 9,
   "id": "91f972bc",
   "metadata": {},
   "outputs": [],
   "source": [
    "# Function to get names from dicts of ids and names (applies to many columns in our data)\n",
    "    # change 'name' to 'id' if 'id' is wanted instead\n",
    "def extract_names(column_data):\n",
    "    column_data = ast.literal_eval(column_data)\n",
    "    names = [data['name'] for data in column_data]\n",
    "    return names"
   ]
  },
  {
   "cell_type": "code",
   "execution_count": 10,
   "id": "ef4c5643",
   "metadata": {
    "scrolled": true
   },
   "outputs": [],
   "source": [
    "# Prepares content_based_df\n",
    "# Completes the following:\n",
    "    # merges movies, credits, and keywords\n",
    "    # cleans columns to get desired results\n",
    "\n",
    "content_based_df = movies.merge(credits, left_on=\"id\", right_on=\"movie_id\", suffixes=(\"_movies\", \"_credits\"))\n",
    "content_based_df.drop(columns=[\"title_credits\", \"movie_id\"], inplace=True)\n",
    "\n",
    "content_based_df = content_based_df.merge(keywords, on=\"id\", suffixes=(\"\", \"_keywords\"))\n",
    "content_based_df.drop(columns=[\"keywords\"], inplace=True)\n",
    "content_based_df.rename(columns={\"keywords_keywords\": \"keywords\"}, inplace=True)\n",
    "\n",
    "\n",
    "columns_to_clean = [\n",
    "    'genres', 'production_companies', 'production_countries',\n",
    "    'spoken_languages', 'cast', 'crew', 'keywords'\n",
    "]\n",
    "\n",
    "for column in columns_to_clean:\n",
    "    content_based_df[column] = content_based_df[column].apply(extract_names)\n",
    "\n",
    "content_based_df['release_date'] = pd.to_datetime(content_based_df['release_date'])\n",
    "\n",
    "# Produces df with following columns (all 100% ready for next steps):\n",
    "# ['budget', 'genres', 'id', 'original_language', 'original_title',\n",
    "#       'popularity', 'production_companies', 'production_countries',\n",
    "#       'release_date', 'revenue', 'runtime', 'spoken_languages',\n",
    "#       'title_movies', 'vote_average', 'vote_count', 'cast', 'crew',\n",
    "#       'keywords']"
   ]
  },
  {
   "cell_type": "code",
   "execution_count": 11,
   "id": "1a4f215c",
   "metadata": {},
   "outputs": [
    {
     "name": "stdout",
     "output_type": "stream",
     "text": [
      "      budget                                         genres      id  \\\n",
      "0  237000000  [Action, Adventure, Fantasy, Science Fiction]   19995   \n",
      "1  300000000                   [Adventure, Fantasy, Action]     285   \n",
      "2  245000000                     [Action, Adventure, Crime]  206647   \n",
      "3  250000000               [Action, Crime, Drama, Thriller]   49026   \n",
      "4  260000000           [Action, Adventure, Science Fiction]   49529   \n",
      "\n",
      "  original_language                            original_title  popularity  \\\n",
      "0                en                                    Avatar  150.437577   \n",
      "1                en  Pirates of the Caribbean: At World's End  139.082615   \n",
      "2                en                                   Spectre  107.376788   \n",
      "3                en                     The Dark Knight Rises  112.312950   \n",
      "4                en                               John Carter   43.926995   \n",
      "\n",
      "                                production_companies  \\\n",
      "0  [Ingenious Film Partners, Twentieth Century Fo...   \n",
      "1  [Walt Disney Pictures, Jerry Bruckheimer Films...   \n",
      "2                   [Columbia Pictures, Danjaq, B24]   \n",
      "3  [Legendary Pictures, Warner Bros., DC Entertai...   \n",
      "4                             [Walt Disney Pictures]   \n",
      "\n",
      "                         production_countries release_date     revenue  \\\n",
      "0  [United States of America, United Kingdom]   2009-12-10  2787965087   \n",
      "1                  [United States of America]   2007-05-19   961000000   \n",
      "2  [United Kingdom, United States of America]   2015-10-26   880674609   \n",
      "3                  [United States of America]   2012-07-16  1084939099   \n",
      "4                  [United States of America]   2012-03-07   284139100   \n",
      "\n",
      "  runtime                                 spoken_languages  \\\n",
      "0   162.0                               [English, Español]   \n",
      "1   169.0                                        [English]   \n",
      "2   148.0  [Français, English, Español, Italiano, Deutsch]   \n",
      "3   165.0                                        [English]   \n",
      "4   132.0                                        [English]   \n",
      "\n",
      "                               title_movies  vote_average  vote_count  \\\n",
      "0                                    Avatar           7.2       11800   \n",
      "1  Pirates of the Caribbean: At World's End           6.9        4500   \n",
      "2                                   Spectre           6.3        4466   \n",
      "3                     The Dark Knight Rises           7.6        9106   \n",
      "4                               John Carter           6.1        2124   \n",
      "\n",
      "                                                cast  \\\n",
      "0  [Sam Worthington, Zoe Saldana, Sigourney Weave...   \n",
      "1  [Johnny Depp, Orlando Bloom, Keira Knightley, ...   \n",
      "2  [Daniel Craig, Christoph Waltz, Léa Seydoux, R...   \n",
      "3  [Christian Bale, Michael Caine, Gary Oldman, A...   \n",
      "4  [Taylor Kitsch, Lynn Collins, Samantha Morton,...   \n",
      "\n",
      "                                                crew  \\\n",
      "0  [Stephen E. Rivkin, Rick Carter, Christopher B...   \n",
      "1  [Dariusz Wolski, Gore Verbinski, Jerry Bruckhe...   \n",
      "2  [Thomas Newman, Sam Mendes, Anna Pinnock, John...   \n",
      "3  [Hans Zimmer, Charles Roven, Christopher Nolan...   \n",
      "4  [Andrew Stanton, Andrew Stanton, John Lasseter...   \n",
      "\n",
      "                                            keywords  \n",
      "0  [culture clash, future, space war, space colon...  \n",
      "1  [ocean, drug abuse, exotic island, east india ...  \n",
      "2  [spy, based on novel, secret agent, sequel, mi...  \n",
      "3  [dc comics, crime fighter, terrorist, secret i...  \n",
      "4  [based on novel, mars, medallion, space travel...  \n"
     ]
    }
   ],
   "source": [
    "print(content_based_df.head())"
   ]
  }
 ],
 "metadata": {
  "kernelspec": {
   "display_name": "Python 3 (ipykernel)",
   "language": "python",
   "name": "python3"
  },
  "language_info": {
   "codemirror_mode": {
    "name": "ipython",
    "version": 3
   },
   "file_extension": ".py",
   "mimetype": "text/x-python",
   "name": "python",
   "nbconvert_exporter": "python",
   "pygments_lexer": "ipython3",
   "version": "3.11.0"
  },
  "vscode": {
   "interpreter": {
    "hash": "d85861c7456c7dd163d8155dab1a7b1881dae34d4c9f83332713dd3ca3035b7c"
   }
  }
 },
 "nbformat": 4,
 "nbformat_minor": 5
}
