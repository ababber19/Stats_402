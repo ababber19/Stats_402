{
 "cells": [
  {
   "cell_type": "markdown",
   "id": "11a7ba23",
   "metadata": {},
   "source": [
    "# Data cleaning and preprocessing"
   ]
  },
  {
   "cell_type": "code",
   "execution_count": 1,
   "id": "b5451573",
   "metadata": {},
   "outputs": [],
   "source": [
    "### Libraries\n",
    "\n",
    "import pandas as pd\n",
    "import numpy as np\n",
    "import seaborn as sns\n",
    "import ast\n",
    "from sklearn.feature_extraction.text import TfidfVectorizer\n",
    "from sklearn.metrics.pairwise import linear_kernel\n",
    "from sklearn.metrics.pairwise import cosine_similarity\n",
    "from sklearn.preprocessing import MultiLabelBinarizer\n",
    "import matplotlib.pyplot as plt\n",
    "import seaborn as sns\n",
    "from sklearn.preprocessing import StandardScaler\n",
    "from scipy.stats import skew"
   ]
  },
  {
   "cell_type": "code",
   "execution_count": 2,
   "id": "0a861103",
   "metadata": {},
   "outputs": [],
   "source": [
    "### Following dfs are used for content-based algorithm\n",
    "\n",
    "movies = pd.read_csv(\"tmdb_5000_movies.csv\")\n",
    "credits = pd.read_csv(\"tmdb_5000_credits.csv\")\n",
    "keywords = pd.read_csv(\"keywords.csv\")"
   ]
  },
  {
   "cell_type": "code",
   "execution_count": 3,
   "id": "4581ab36",
   "metadata": {},
   "outputs": [
    {
     "name": "stdout",
     "output_type": "stream",
     "text": [
      "Movies dataset:\n",
      "<class 'pandas.core.frame.DataFrame'>\n",
      "RangeIndex: 4803 entries, 0 to 4802\n",
      "Data columns (total 20 columns):\n",
      " #   Column                Non-Null Count  Dtype  \n",
      "---  ------                --------------  -----  \n",
      " 0   budget                4803 non-null   int64  \n",
      " 1   genres                4803 non-null   object \n",
      " 2   homepage              1712 non-null   object \n",
      " 3   id                    4803 non-null   int64  \n",
      " 4   keywords              4803 non-null   object \n",
      " 5   original_language     4803 non-null   object \n",
      " 6   original_title        4803 non-null   object \n",
      " 7   overview              4800 non-null   object \n",
      " 8   popularity            4803 non-null   float64\n",
      " 9   production_companies  4803 non-null   object \n",
      " 10  production_countries  4803 non-null   object \n",
      " 11  release_date          4802 non-null   object \n",
      " 12  revenue               4803 non-null   int64  \n",
      " 13  runtime               4801 non-null   float64\n",
      " 14  spoken_languages      4803 non-null   object \n",
      " 15  status                4803 non-null   object \n",
      " 16  tagline               3959 non-null   object \n",
      " 17  title                 4803 non-null   object \n",
      " 18  vote_average          4803 non-null   float64\n",
      " 19  vote_count            4803 non-null   int64  \n",
      "dtypes: float64(3), int64(4), object(13)\n",
      "memory usage: 750.6+ KB\n",
      "None\n",
      "\n",
      "Credits dataset:\n",
      "<class 'pandas.core.frame.DataFrame'>\n",
      "RangeIndex: 4803 entries, 0 to 4802\n",
      "Data columns (total 4 columns):\n",
      " #   Column    Non-Null Count  Dtype \n",
      "---  ------    --------------  ----- \n",
      " 0   movie_id  4803 non-null   int64 \n",
      " 1   title     4803 non-null   object\n",
      " 2   cast      4803 non-null   object\n",
      " 3   crew      4803 non-null   object\n",
      "dtypes: int64(1), object(3)\n",
      "memory usage: 150.2+ KB\n",
      "None\n",
      "\n",
      "Keywords dataset:\n",
      "<class 'pandas.core.frame.DataFrame'>\n",
      "RangeIndex: 46419 entries, 0 to 46418\n",
      "Data columns (total 2 columns):\n",
      " #   Column    Non-Null Count  Dtype \n",
      "---  ------    --------------  ----- \n",
      " 0   id        46419 non-null  int64 \n",
      " 1   keywords  46419 non-null  object\n",
      "dtypes: int64(1), object(1)\n",
      "memory usage: 725.4+ KB\n",
      "None\n"
     ]
    }
   ],
   "source": [
    "### Examine the datasets\n",
    "\n",
    "print(\"Movies dataset:\")\n",
    "# print(movies.head())\n",
    "print(movies.info())\n",
    "\n",
    "print(\"\\nCredits dataset:\")\n",
    "# print(credits.head())\n",
    "print(credits.info())\n",
    "\n",
    "print(\"\\nKeywords dataset:\")\n",
    "# print(keywords.head())\n",
    "print(keywords.info())"
   ]
  },
  {
   "cell_type": "code",
   "execution_count": 4,
   "id": "5e952344",
   "metadata": {},
   "outputs": [],
   "source": [
    "### Handle the missing values\n",
    "## Only released movies are considered (not rumored, post-production)\n",
    "\n",
    "movies.fillna(\"\", inplace=True)\n",
    "movies = movies[movies[\"status\"] == \"Released\"]\n",
    "movies = movies.drop(columns=[\"homepage\", \"tagline\", \"status\"])\n",
    "\n",
    "\n",
    "credits.fillna(\"\", inplace=True)\n",
    "keywords.fillna(\"\", inplace=True)"
   ]
  },
  {
   "cell_type": "markdown",
   "id": "507890a6",
   "metadata": {},
   "source": [
    "# Dataset merging & final cleanup"
   ]
  },
  {
   "cell_type": "code",
   "execution_count": 5,
   "id": "91f972bc",
   "metadata": {},
   "outputs": [],
   "source": [
    "### Function to get names from dicts of ids and names (applies to many columns in our data)\n",
    "    # change 'name' to 'id' if 'id' is wanted instead\n",
    "\n",
    "def extract_names(column_data):\n",
    "    column_data = ast.literal_eval(column_data)\n",
    "    names = [data['name'] for data in column_data]\n",
    "    return names"
   ]
  },
  {
   "cell_type": "code",
   "execution_count": 6,
   "id": "d1bfe2e2",
   "metadata": {},
   "outputs": [],
   "source": [
    "### Function to get director from the crew members\n",
    "\n",
    "def get_director(crew_data):\n",
    "    crew_data = ast.literal_eval(crew_data)\n",
    "    for crew_member in crew_data:\n",
    "        if crew_member['job'] == 'Director':\n",
    "            return crew_member['name']\n",
    "    return np.nan"
   ]
  },
  {
   "cell_type": "code",
   "execution_count": 7,
   "id": "ef4c5643",
   "metadata": {},
   "outputs": [],
   "source": [
    "### Prepares content_based_df\n",
    "### Completes the following:\n",
    "    # merges movies, credits, and keywords\n",
    "    # cleans columns to get desired results by renaming columns and using extract_names function\n",
    "\n",
    "content_based_df = movies.merge(credits, left_on=\"id\", right_on=\"movie_id\", suffixes=(\"_movies\", \"_credits\"))\n",
    "content_based_df.drop(columns=[\"title_credits\", \"movie_id\"], inplace=True)\n",
    "\n",
    "content_based_df = content_based_df.merge(keywords, on=\"id\", suffixes=(\"\", \"_keywords\"))\n",
    "content_based_df.drop(columns=[\"keywords\"], inplace=True)\n",
    "content_based_df.rename(columns={\"keywords_keywords\": \"keywords\"}, inplace=True)\n",
    "\n",
    "# Set manually\n",
    "columns_to_clean = [\n",
    "    'genres', 'production_companies', 'production_countries',\n",
    "    'spoken_languages', 'cast', 'keywords'\n",
    "]\n",
    "\n",
    "for column in columns_to_clean:\n",
    "    content_based_df[column] = content_based_df[column].apply(extract_names)\n",
    "    \n",
    "\n",
    "content_based_df['director'] = content_based_df['crew'].apply(get_director)\n",
    "content_based_df.dropna(subset=['director'], inplace=True)\n",
    "\n",
    "content_based_df['release_date'] = pd.to_datetime(content_based_df['release_date'])\n",
    "content_based_df = content_based_df.drop(columns=[\"crew\"])\n",
    "content_based_df.set_index('id', inplace=True)\n",
    "content_based_df = content_based_df.loc[~content_based_df.index.duplicated(keep='first')]\n",
    "\n",
    "# Produces df with following columns (all 100% ready for next steps):\n",
    "# ['budget', 'genres', 'id', 'original_language', 'original_title',\n",
    "#       'popularity', 'production_companies', 'production_countries',\n",
    "#       'release_date', 'revenue', 'runtime', 'spoken_languages',\n",
    "#       'title_movies', 'vote_average', 'vote_count', 'cast', 'crew',\n",
    "#       'keywords']"
   ]
  },
  {
   "cell_type": "code",
   "execution_count": 8,
   "id": "ae655ad1",
   "metadata": {
    "scrolled": true
   },
   "outputs": [
    {
     "data": {
      "text/html": [
       "<div>\n",
       "<style scoped>\n",
       "    .dataframe tbody tr th:only-of-type {\n",
       "        vertical-align: middle;\n",
       "    }\n",
       "\n",
       "    .dataframe tbody tr th {\n",
       "        vertical-align: top;\n",
       "    }\n",
       "\n",
       "    .dataframe thead th {\n",
       "        text-align: right;\n",
       "    }\n",
       "</style>\n",
       "<table border=\"1\" class=\"dataframe\">\n",
       "  <thead>\n",
       "    <tr style=\"text-align: right;\">\n",
       "      <th></th>\n",
       "      <th>budget</th>\n",
       "      <th>genres</th>\n",
       "      <th>original_language</th>\n",
       "      <th>original_title</th>\n",
       "      <th>overview</th>\n",
       "      <th>popularity</th>\n",
       "      <th>production_companies</th>\n",
       "      <th>production_countries</th>\n",
       "      <th>release_date</th>\n",
       "      <th>revenue</th>\n",
       "      <th>runtime</th>\n",
       "      <th>spoken_languages</th>\n",
       "      <th>title_movies</th>\n",
       "      <th>vote_average</th>\n",
       "      <th>vote_count</th>\n",
       "      <th>cast</th>\n",
       "      <th>keywords</th>\n",
       "      <th>director</th>\n",
       "    </tr>\n",
       "    <tr>\n",
       "      <th>id</th>\n",
       "      <th></th>\n",
       "      <th></th>\n",
       "      <th></th>\n",
       "      <th></th>\n",
       "      <th></th>\n",
       "      <th></th>\n",
       "      <th></th>\n",
       "      <th></th>\n",
       "      <th></th>\n",
       "      <th></th>\n",
       "      <th></th>\n",
       "      <th></th>\n",
       "      <th></th>\n",
       "      <th></th>\n",
       "      <th></th>\n",
       "      <th></th>\n",
       "      <th></th>\n",
       "      <th></th>\n",
       "    </tr>\n",
       "  </thead>\n",
       "  <tbody>\n",
       "    <tr>\n",
       "      <th>19995</th>\n",
       "      <td>237000000</td>\n",
       "      <td>[Action, Adventure, Fantasy, Science Fiction]</td>\n",
       "      <td>en</td>\n",
       "      <td>Avatar</td>\n",
       "      <td>In the 22nd century, a paraplegic Marine is di...</td>\n",
       "      <td>150.437577</td>\n",
       "      <td>[Ingenious Film Partners, Twentieth Century Fo...</td>\n",
       "      <td>[United States of America, United Kingdom]</td>\n",
       "      <td>2009-12-10</td>\n",
       "      <td>2787965087</td>\n",
       "      <td>162.0</td>\n",
       "      <td>[English, Español]</td>\n",
       "      <td>Avatar</td>\n",
       "      <td>7.2</td>\n",
       "      <td>11800</td>\n",
       "      <td>[Sam Worthington, Zoe Saldana, Sigourney Weave...</td>\n",
       "      <td>[culture clash, future, space war, space colon...</td>\n",
       "      <td>James Cameron</td>\n",
       "    </tr>\n",
       "    <tr>\n",
       "      <th>285</th>\n",
       "      <td>300000000</td>\n",
       "      <td>[Adventure, Fantasy, Action]</td>\n",
       "      <td>en</td>\n",
       "      <td>Pirates of the Caribbean: At World's End</td>\n",
       "      <td>Captain Barbossa, long believed to be dead, ha...</td>\n",
       "      <td>139.082615</td>\n",
       "      <td>[Walt Disney Pictures, Jerry Bruckheimer Films...</td>\n",
       "      <td>[United States of America]</td>\n",
       "      <td>2007-05-19</td>\n",
       "      <td>961000000</td>\n",
       "      <td>169.0</td>\n",
       "      <td>[English]</td>\n",
       "      <td>Pirates of the Caribbean: At World's End</td>\n",
       "      <td>6.9</td>\n",
       "      <td>4500</td>\n",
       "      <td>[Johnny Depp, Orlando Bloom, Keira Knightley, ...</td>\n",
       "      <td>[ocean, drug abuse, exotic island, east india ...</td>\n",
       "      <td>Gore Verbinski</td>\n",
       "    </tr>\n",
       "    <tr>\n",
       "      <th>206647</th>\n",
       "      <td>245000000</td>\n",
       "      <td>[Action, Adventure, Crime]</td>\n",
       "      <td>en</td>\n",
       "      <td>Spectre</td>\n",
       "      <td>A cryptic message from Bond’s past sends him o...</td>\n",
       "      <td>107.376788</td>\n",
       "      <td>[Columbia Pictures, Danjaq, B24]</td>\n",
       "      <td>[United Kingdom, United States of America]</td>\n",
       "      <td>2015-10-26</td>\n",
       "      <td>880674609</td>\n",
       "      <td>148.0</td>\n",
       "      <td>[Français, English, Español, Italiano, Deutsch]</td>\n",
       "      <td>Spectre</td>\n",
       "      <td>6.3</td>\n",
       "      <td>4466</td>\n",
       "      <td>[Daniel Craig, Christoph Waltz, Léa Seydoux, R...</td>\n",
       "      <td>[spy, based on novel, secret agent, sequel, mi...</td>\n",
       "      <td>Sam Mendes</td>\n",
       "    </tr>\n",
       "    <tr>\n",
       "      <th>49026</th>\n",
       "      <td>250000000</td>\n",
       "      <td>[Action, Crime, Drama, Thriller]</td>\n",
       "      <td>en</td>\n",
       "      <td>The Dark Knight Rises</td>\n",
       "      <td>Following the death of District Attorney Harve...</td>\n",
       "      <td>112.312950</td>\n",
       "      <td>[Legendary Pictures, Warner Bros., DC Entertai...</td>\n",
       "      <td>[United States of America]</td>\n",
       "      <td>2012-07-16</td>\n",
       "      <td>1084939099</td>\n",
       "      <td>165.0</td>\n",
       "      <td>[English]</td>\n",
       "      <td>The Dark Knight Rises</td>\n",
       "      <td>7.6</td>\n",
       "      <td>9106</td>\n",
       "      <td>[Christian Bale, Michael Caine, Gary Oldman, A...</td>\n",
       "      <td>[dc comics, crime fighter, terrorist, secret i...</td>\n",
       "      <td>Christopher Nolan</td>\n",
       "    </tr>\n",
       "    <tr>\n",
       "      <th>49529</th>\n",
       "      <td>260000000</td>\n",
       "      <td>[Action, Adventure, Science Fiction]</td>\n",
       "      <td>en</td>\n",
       "      <td>John Carter</td>\n",
       "      <td>John Carter is a war-weary, former military ca...</td>\n",
       "      <td>43.926995</td>\n",
       "      <td>[Walt Disney Pictures]</td>\n",
       "      <td>[United States of America]</td>\n",
       "      <td>2012-03-07</td>\n",
       "      <td>284139100</td>\n",
       "      <td>132.0</td>\n",
       "      <td>[English]</td>\n",
       "      <td>John Carter</td>\n",
       "      <td>6.1</td>\n",
       "      <td>2124</td>\n",
       "      <td>[Taylor Kitsch, Lynn Collins, Samantha Morton,...</td>\n",
       "      <td>[based on novel, mars, medallion, space travel...</td>\n",
       "      <td>Andrew Stanton</td>\n",
       "    </tr>\n",
       "  </tbody>\n",
       "</table>\n",
       "</div>"
      ],
      "text/plain": [
       "           budget                                         genres  \\\n",
       "id                                                                 \n",
       "19995   237000000  [Action, Adventure, Fantasy, Science Fiction]   \n",
       "285     300000000                   [Adventure, Fantasy, Action]   \n",
       "206647  245000000                     [Action, Adventure, Crime]   \n",
       "49026   250000000               [Action, Crime, Drama, Thriller]   \n",
       "49529   260000000           [Action, Adventure, Science Fiction]   \n",
       "\n",
       "       original_language                            original_title  \\\n",
       "id                                                                   \n",
       "19995                 en                                    Avatar   \n",
       "285                   en  Pirates of the Caribbean: At World's End   \n",
       "206647                en                                   Spectre   \n",
       "49026                 en                     The Dark Knight Rises   \n",
       "49529                 en                               John Carter   \n",
       "\n",
       "                                                 overview  popularity  \\\n",
       "id                                                                      \n",
       "19995   In the 22nd century, a paraplegic Marine is di...  150.437577   \n",
       "285     Captain Barbossa, long believed to be dead, ha...  139.082615   \n",
       "206647  A cryptic message from Bond’s past sends him o...  107.376788   \n",
       "49026   Following the death of District Attorney Harve...  112.312950   \n",
       "49529   John Carter is a war-weary, former military ca...   43.926995   \n",
       "\n",
       "                                     production_companies  \\\n",
       "id                                                          \n",
       "19995   [Ingenious Film Partners, Twentieth Century Fo...   \n",
       "285     [Walt Disney Pictures, Jerry Bruckheimer Films...   \n",
       "206647                   [Columbia Pictures, Danjaq, B24]   \n",
       "49026   [Legendary Pictures, Warner Bros., DC Entertai...   \n",
       "49529                              [Walt Disney Pictures]   \n",
       "\n",
       "                              production_countries release_date     revenue  \\\n",
       "id                                                                            \n",
       "19995   [United States of America, United Kingdom]   2009-12-10  2787965087   \n",
       "285                     [United States of America]   2007-05-19   961000000   \n",
       "206647  [United Kingdom, United States of America]   2015-10-26   880674609   \n",
       "49026                   [United States of America]   2012-07-16  1084939099   \n",
       "49529                   [United States of America]   2012-03-07   284139100   \n",
       "\n",
       "       runtime                                 spoken_languages  \\\n",
       "id                                                                \n",
       "19995    162.0                               [English, Español]   \n",
       "285      169.0                                        [English]   \n",
       "206647   148.0  [Français, English, Español, Italiano, Deutsch]   \n",
       "49026    165.0                                        [English]   \n",
       "49529    132.0                                        [English]   \n",
       "\n",
       "                                    title_movies  vote_average  vote_count  \\\n",
       "id                                                                           \n",
       "19995                                     Avatar           7.2       11800   \n",
       "285     Pirates of the Caribbean: At World's End           6.9        4500   \n",
       "206647                                   Spectre           6.3        4466   \n",
       "49026                      The Dark Knight Rises           7.6        9106   \n",
       "49529                                John Carter           6.1        2124   \n",
       "\n",
       "                                                     cast  \\\n",
       "id                                                          \n",
       "19995   [Sam Worthington, Zoe Saldana, Sigourney Weave...   \n",
       "285     [Johnny Depp, Orlando Bloom, Keira Knightley, ...   \n",
       "206647  [Daniel Craig, Christoph Waltz, Léa Seydoux, R...   \n",
       "49026   [Christian Bale, Michael Caine, Gary Oldman, A...   \n",
       "49529   [Taylor Kitsch, Lynn Collins, Samantha Morton,...   \n",
       "\n",
       "                                                 keywords           director  \n",
       "id                                                                            \n",
       "19995   [culture clash, future, space war, space colon...      James Cameron  \n",
       "285     [ocean, drug abuse, exotic island, east india ...     Gore Verbinski  \n",
       "206647  [spy, based on novel, secret agent, sequel, mi...         Sam Mendes  \n",
       "49026   [dc comics, crime fighter, terrorist, secret i...  Christopher Nolan  \n",
       "49529   [based on novel, mars, medallion, space travel...     Andrew Stanton  "
      ]
     },
     "execution_count": 8,
     "metadata": {},
     "output_type": "execute_result"
    }
   ],
   "source": [
    "(content_based_df.head())"
   ]
  },
  {
   "cell_type": "markdown",
   "id": "e40258c4",
   "metadata": {},
   "source": [
    "# Feature Engineering"
   ]
  },
  {
   "cell_type": "markdown",
   "id": "7e839e69",
   "metadata": {},
   "source": [
    "### Categorical Feature Engineering (categorical variables handled)\n",
    "***Variables Handled***:\n",
    "- original_language\n",
    "- production_companies"
   ]
  },
  {
   "cell_type": "code",
   "execution_count": 9,
   "id": "bcc69103",
   "metadata": {},
   "outputs": [],
   "source": [
    "### Completes one-hot encoding on categorical variables\n",
    "# mlb = MultiLabelBinarizer() # Not needed for 'original_language'\n",
    "\n",
    "# Set up as for loop for chance to expand upon this later if needed\n",
    "for feature in ['original_language']:\n",
    "    if feature == 'original_language':\n",
    "        encoded_features = pd.get_dummies(content_based_df[feature])\n",
    "    else:\n",
    "        temp_df = pd.DataFrame(mlb.fit_transform(content_based_df[feature]), columns=mlb.classes_, index=content_based_df.index)\n",
    "        encoded_features = pd.concat([encoded_features, temp_df], axis=1)"
   ]
  },
  {
   "cell_type": "code",
   "execution_count": 10,
   "id": "beae2307",
   "metadata": {},
   "outputs": [
    {
     "name": "stdout",
     "output_type": "stream",
     "text": [
      "af, ar, cn, cs, da, de, el, en, es, fa, fr, he, hi, hu, id, is, it, ja, ko, ky, nb, nl, no, pl, ps, pt, ro, ru, sv, te, th, vi, xx, zh\n"
     ]
    }
   ],
   "source": [
    "# Convert the column names to a list and print them without truncation\n",
    "print(', '.join(encoded_features.columns.tolist()))"
   ]
  },
  {
   "cell_type": "markdown",
   "id": "60e8822a",
   "metadata": {},
   "source": [
    "### Numerical Feature Engineering (numerical data)\n",
    "***Variables Handled***\n",
    "- budget\n",
    "- popularity\n",
    "- release_date\n",
    "- revenue\n",
    "- runtime\n",
    "- vote_average\n",
    "- vote_count"
   ]
  },
  {
   "cell_type": "code",
   "execution_count": 11,
   "id": "63ad7c02",
   "metadata": {},
   "outputs": [],
   "source": [
    "content_based_df['release_year'] = pd.to_datetime(content_based_df['release_date']).dt.year\n",
    "\n",
    "# Ensure numerical columns are in the correct data type\n",
    "numerical_cols = ['budget', 'popularity', 'revenue', 'runtime', 'vote_average', 'vote_count', 'release_year']\n",
    "\n",
    "content_based_df[numerical_cols] = content_based_df[numerical_cols].apply(pd.to_numeric, errors='coerce', axis=1)"
   ]
  },
  {
   "cell_type": "code",
   "execution_count": 12,
   "id": "74d1bdaf",
   "metadata": {},
   "outputs": [
    {
     "name": "stdout",
     "output_type": "stream",
     "text": [
      "Number of non-positive values in budget: 881\n",
      "Number of non-positive values in popularity: 0\n",
      "Number of non-positive values in revenue: 1226\n",
      "Number of non-positive values in vote_count: 8\n",
      "Number of non-positive values in release_year: 0\n",
      "Number of non-positive values in vote_average: 8\n"
     ]
    }
   ],
   "source": [
    "### Sees if there are negative/0 values we need to handle\n",
    "\n",
    "# Prints number of non-positive values in each column\n",
    "for col in ['budget', 'popularity', 'revenue', 'vote_count', 'release_year', 'vote_average']:\n",
    "    num_of_non_positive_values = content_based_df[content_based_df[col] <= 0].shape[0]\n",
    "    print(f'Number of non-positive values in {col}: {num_of_non_positive_values}')"
   ]
  },
  {
   "cell_type": "code",
   "execution_count": 13,
   "id": "67980100",
   "metadata": {
    "scrolled": true
   },
   "outputs": [
    {
     "name": "stdout",
     "output_type": "stream",
     "text": [
      "Number of rows with zero or near-zero budget or revenue: 1372\n",
      "Average number of reviews: 116.02915451895043\n",
      "Average rating: 5.925728862973761\n",
      "             budget   popularity       revenue      runtime  vote_average  \\\n",
      "count  1.372000e+03  1372.000000  1.372000e+03  1372.000000   1372.000000   \n",
      "mean   5.823004e+06     6.827626  2.630923e+06   101.196064      5.925729   \n",
      "std    1.390803e+07     7.252500  1.590007e+07    19.756583      1.098053   \n",
      "min    0.000000e+00     0.001117  0.000000e+00     0.000000      0.000000   \n",
      "25%    0.000000e+00     1.874077  0.000000e+00    90.000000      5.400000   \n",
      "50%    0.000000e+00     4.899995  0.000000e+00    98.000000      6.000000   \n",
      "75%    4.000000e+06     9.253340  0.000000e+00   110.000000      6.600000   \n",
      "max    1.500000e+08    74.817641  2.536254e+08   254.000000     10.000000   \n",
      "\n",
      "        vote_count  release_year  \n",
      "count  1372.000000   1372.000000  \n",
      "mean    116.029155   2003.354227  \n",
      "std     188.545179     10.330916  \n",
      "min       0.000000   1929.000000  \n",
      "25%      18.000000   1999.000000  \n",
      "50%      50.000000   2005.000000  \n",
      "75%     133.250000   2010.000000  \n",
      "max    2067.000000   2017.000000  \n"
     ]
    }
   ],
   "source": [
    "# Looks deeper at data regarding 0 bugdet/revenue to decide whether we can remove it or not\n",
    "zero_budget_revenue = content_based_df[(content_based_df['budget'] <= 1) | (content_based_df['revenue'] <= 1)]\n",
    "\n",
    "print(\"Number of rows with zero or near-zero budget or revenue:\", len(zero_budget_revenue))\n",
    "print(\"Average number of reviews:\", zero_budget_revenue['vote_count'].mean())\n",
    "print(\"Average rating:\", zero_budget_revenue['vote_average'].mean())\n",
    "\n",
    "# Get a general overview of the datafram\n",
    "print(zero_budget_revenue.describe())"
   ]
  },
  {
   "cell_type": "code",
   "execution_count": 14,
   "id": "76d46951",
   "metadata": {
    "scrolled": true
   },
   "outputs": [
    {
     "name": "stdout",
     "output_type": "stream",
     "text": [
      "\n",
      "Original skewness of 'budget': 2.387030325612216\n",
      "Skewness of 'budget' after square root transformation: 0.6920141720634772\n",
      "Skewness of 'budget' after cube root transformation: -0.007135691195955285\n",
      "Skewness of 'budget' after log transformation: -1.3923163720223053\n",
      "Skewness of 'budget' after square transformation: 6.215976304160269\n",
      "\n",
      "Original skewness of 'popularity': 9.710811924410594\n",
      "Skewness of 'popularity' after square root transformation: 1.5158356975236906\n",
      "Skewness of 'popularity' after cube root transformation: 0.5617932556609562\n",
      "Skewness of 'popularity' after log transformation: -0.2301477780322977\n",
      "Skewness of 'popularity' after square transformation: 37.67104066221319\n",
      "\n",
      "Original skewness of 'release_year': -2.2821322377418296\n",
      "Skewness of 'release_year' after square root transformation: -2.3017386689183916\n",
      "Skewness of 'release_year' after cube root transformation: -2.308310586708521\n",
      "Skewness of 'release_year' after log transformation: -2.321489379929443\n",
      "Skewness of 'release_year' after square transformation: -2.243406381231662\n",
      "\n",
      "Original skewness of 'revenue': 4.364068058871547\n",
      "Skewness of 'revenue' after square root transformation: 1.3916827371017086\n",
      "Skewness of 'revenue' after cube root transformation: 0.5304589662491179\n",
      "Skewness of 'revenue' after log transformation: -0.9029351875480557\n",
      "Skewness of 'revenue' after square transformation: 21.36884883542208\n",
      "\n",
      "Original skewness of 'runtime': 1.4432171781256014\n",
      "Skewness of 'runtime' after square root transformation: -1.0202082380684632\n",
      "Skewness of 'runtime' after cube root transformation: -4.25510491081528\n",
      "Skewness of 'runtime' after log transformation: -10.007799803170437\n",
      "Skewness of 'runtime' after square transformation: 4.015635158932834\n",
      "\n",
      "Original skewness of 'vote_average': -0.9055403078308566\n",
      "Skewness of 'vote_average' after square root transformation: -3.152108420802449\n",
      "Skewness of 'vote_average' after cube root transformation: -6.28118027423457\n",
      "Skewness of 'vote_average' after log transformation: -3.9923544493838303\n",
      "Skewness of 'vote_average' after square transformation: 0.0009841439515943095\n",
      "\n",
      "Original skewness of 'vote_count': 3.7470827424018602\n",
      "Skewness of 'vote_count' after square root transformation: 1.580642346932143\n",
      "Skewness of 'vote_count' after cube root transformation: 0.9263325550464884\n",
      "Skewness of 'vote_count' after log transformation: -0.3321335932239768\n",
      "Skewness of 'vote_count' after square transformation: 9.542821528262767\n"
     ]
    }
   ],
   "source": [
    "### First, we check the skewness of each variable after applying transformations to \n",
    "### determine the best transformation for each variable\n",
    "\n",
    "# List of columns to check\n",
    "columns = ['budget', 'popularity', 'release_year', 'revenue', 'runtime', 'vote_average', 'vote_count']\n",
    "\n",
    "# Initialize a scaler\n",
    "scaler = StandardScaler()\n",
    "\n",
    "# Calculate and print skewness for each column\n",
    "for col in columns:\n",
    "    # Calculate original skewness\n",
    "    original_skew = skew(content_based_df[col])\n",
    "    print(f\"\\nOriginal skewness of '{col}': {original_skew}\")\n",
    "    \n",
    "    # Apply square root transformation\n",
    "    sqrt_transformed = np.sqrt(content_based_df[col])\n",
    "    sqrt_skew = skew(sqrt_transformed)\n",
    "    print(f\"Skewness of '{col}' after square root transformation: {sqrt_skew}\")\n",
    "    \n",
    "    # Apply cube root transformation\n",
    "    cbrt_transformed = np.cbrt(content_based_df[col])\n",
    "    cbrt_skew = skew(cbrt_transformed)\n",
    "    print(f\"Skewness of '{col}' after cube root transformation: {cbrt_skew}\")\n",
    "    \n",
    "    # Apply log transformation\n",
    "    log_transformed = np.log1p(content_based_df[col]) # adding 1 before taking log to avoid division by zero\n",
    "    log_skew = skew(log_transformed)\n",
    "    print(f\"Skewness of '{col}' after log transformation: {log_skew}\")\n",
    "    \n",
    "    # Apply square transformation\n",
    "    square_transformed = np.square(content_based_df[col])\n",
    "    square_skew = skew(square_transformed)\n",
    "    print(f\"Skewness of '{col}' after square transformation: {square_skew}\")"
   ]
  },
  {
   "cell_type": "markdown",
   "id": "777adb48",
   "metadata": {},
   "source": [
    "### Skew analysis and transformation choice explanation\n",
    "1. **budget**: The cube root transformation results in skewness closest to zero (-0.0018). This is likely the best transformation for this variable.\n",
    "\n",
    "2. **popularity**: The cube root transformation results in skewness closest to zero (0.5454). However, the log transformation results in a slight negative skewness, which might be preferable depending on the specifics of the machine learning algorithm used. Either of these could be a good choice.\n",
    "\n",
    "3. **release_year**: All transformations still result in high negative skewness. Binning into categories might be a suitable solution for this variable (applying one-hot encoding).\n",
    "\n",
    "4. **revenue**: Similar to budget, the cube root transformation results in skewness closest to zero (0.5344). This is likely the best transformation for this variable.\n",
    "\n",
    "5. **runtime**: All transformations result in significant skewness. This variable might need more complex treatment. Considering that runtime typically doesn't vary extremely widely, it might be appropriate to remove some outliers manually.\n",
    "\n",
    "6. **vote_average**: The square transformation results in skewness closest to zero (-0.0206), which would likely be the best transformation for this variable.\n",
    "\n",
    "7. **vote_count**: The log transformation results in skewness closest to zero (-0.3434), making it the best choice for this variable.\n",
    "\n",
    "8. **runtime**: All transformations seem to increase the skewness for this variable. It might be best to leave this variable as it is or consider other types of transformations."
   ]
  },
  {
   "cell_type": "code",
   "execution_count": 15,
   "id": "6df6a492",
   "metadata": {},
   "outputs": [],
   "source": [
    "### Handles all cases of non-positive values, depending on the number of instances of each\n",
    "\n",
    "# Create a new DataFrame with the transformed numerical features\n",
    "numerical_transformed = content_based_df[['budget', 'popularity', 'release_year', 'revenue', 'runtime', 'vote_average', 'vote_count']].copy()\n",
    "\n",
    "# Removal of rows with non-positive 'vote_count', 'vote_average', 'budget', and 'revenue'\n",
    "numerical_transformed = numerical_transformed[numerical_transformed['vote_count'] > 0]\n",
    "numerical_transformed = numerical_transformed[numerical_transformed['vote_average'] > 0]\n",
    "numerical_transformed = numerical_transformed[numerical_transformed['budget'] > 0]\n",
    "numerical_transformed = numerical_transformed[numerical_transformed['revenue'] > 0]\n",
    "\n",
    "# Apply cube root transformation to 'budget' and 'revenue'\n",
    "numerical_transformed['budget'] = numerical_transformed['budget']**(1/3)\n",
    "numerical_transformed['revenue'] = numerical_transformed['revenue']**(1/3)\n",
    "\n",
    "# Apply log transformation to 'popularity' and 'vote_count'\n",
    "numerical_transformed['popularity'] = np.log1p(numerical_transformed['popularity'])\n",
    "numerical_transformed['vote_count'] = np.log1p(numerical_transformed['vote_count'])\n",
    "\n",
    "# Apply square transformation to 'vote_average'\n",
    "numerical_transformed['vote_average'] = numerical_transformed['vote_average']**2\n",
    "\n",
    "# For 'release_year', binning into categories might be a suitable solution, so we will remove it later"
   ]
  },
  {
   "cell_type": "code",
   "execution_count": 16,
   "id": "91ac9fed",
   "metadata": {
    "scrolled": true
   },
   "outputs": [
    {
     "name": "stdout",
     "output_type": "stream",
     "text": [
      "            budget   popularity  release_year      revenue      runtime  \\\n",
      "count  3210.000000  3210.000000   3210.000000  3210.000000  3210.000000   \n",
      "mean    301.754136     3.009334   2001.667601   404.722305   110.790966   \n",
      "std     119.475713     0.924790     13.286712   202.987985    20.854784   \n",
      "min       1.000000     0.019787   1916.000000     1.709976    63.000000   \n",
      "25%     222.398009     2.451958   1998.000000   258.541235    96.000000   \n",
      "50%     292.401774     3.071031   2005.000000   382.217194   107.000000   \n",
      "75%     380.295246     3.650193   2010.000000   527.816493   121.000000   \n",
      "max     724.315644     6.776029   2016.000000  1407.437474   338.000000   \n",
      "\n",
      "       vote_average   vote_count  \n",
      "count   3210.000000  3210.000000  \n",
      "mean      40.626548     6.056847  \n",
      "std       10.595430     1.424835  \n",
      "min        5.290000     0.693147  \n",
      "25%       33.640000     5.205377  \n",
      "50%       39.690000     6.172743  \n",
      "75%       47.610000     7.048386  \n",
      "max       72.250000     9.529012  \n"
     ]
    }
   ],
   "source": [
    "# Used to check whether data tranformations were effective\n",
    "print(numerical_transformed.describe())"
   ]
  },
  {
   "cell_type": "code",
   "execution_count": 17,
   "id": "e71b4680",
   "metadata": {
    "scrolled": true
   },
   "outputs": [
    {
     "data": {
      "image/png": "[encoded data removed]",
      "text/plain": [
       "<Figure size 1500x1000 with 9 Axes>"
      ]
     },
     "metadata": {},
     "output_type": "display_data"
    }
   ],
   "source": [
    "numerical_transformed.hist(bins=30, figsize=(15, 10))\n",
    "plt.tight_layout()\n",
    "plt.show()"
   ]
  },
  {
   "cell_type": "code",
   "execution_count": 18,
   "id": "4be8eba8",
   "metadata": {},
   "outputs": [],
   "source": [
    "### Updates release_year and adds it into the encoded features (via one-hot encoding)\n",
    "\n",
    "content_based_df['release_year'] = content_based_df['release_year'].astype(int)\n",
    "\n",
    "# Create bins for every 5 years\n",
    "bins = list(range(content_based_df['release_year'].min(), content_based_df['release_year'].max() + 20, 20))\n",
    "labels = [f'{i}-{i+4}' for i in bins[:-1]]\n",
    "\n",
    "# Create a new column 'release_year_bins' for the binned years\n",
    "content_based_df['release_year_bins'] = pd.cut(content_based_df['release_year'], bins=bins, labels=labels, include_lowest=True)\n",
    "\n",
    "# One-hot encode 'release_year_bins'\n",
    "release_year_encoded = pd.get_dummies(content_based_df['release_year_bins'], prefix='release_year')\n",
    "\n",
    "# Add the encoded features to the encoded_features DataFrame\n",
    "encoded_features = pd.concat([encoded_features, release_year_encoded], axis=1)\n",
    "\n",
    "# Remove release_year from numerical_transformed\n",
    "numerical_transformed = numerical_transformed.drop(columns=[\"release_year\"])\n"
   ]
  },
  {
   "cell_type": "markdown",
   "id": "1eb6d95e",
   "metadata": {},
   "source": [
    "### Text Feature Engineering\n",
    "***Variables Handled:***\n",
    "- keywords\n",
    "- cast\n",
    "- director\n",
    "- overview\n",
    "- genre"
   ]
  },
  {
   "cell_type": "markdown",
   "id": "1f948436",
   "metadata": {},
   "source": [
    "### Combining Features & Providing Results"
   ]
  },
  {
   "cell_type": "code",
   "execution_count": 19,
   "id": "a3e82648",
   "metadata": {
    "scrolled": true
   },
   "outputs": [],
   "source": [
    "### Create a combined text feature for cast, crew, and keywords\n",
    "### Create transformed_df containing all transformed data\n",
    "    # Creating column text_features (which we will apply transformation function to later)\n",
    "\n",
    "def create_combined_feature(row):\n",
    "    # Check if the column values are NaN. If they are, replace with empty string, else use original value.\n",
    "    keywords = ' '.join(row['keywords']) if isinstance(row['keywords'], list) else ''\n",
    "    cast = ' '.join(row['cast'][:3]) if isinstance(row['cast'], list) else ''\n",
    "    director = row['director'] if isinstance(row['director'], str) else 'unknown director'\n",
    "    overview = row['overview'] if isinstance(row['overview'], str) else ''\n",
    "    genres = ' '.join(row['genres']) if isinstance(row['genres'], list) else ''\n",
    "    \n",
    "    return keywords + ' ' + cast + ' ' + director + ' ' + overview + ' ' + genres\n",
    "\n",
    "# Initialize transformed_df with just the text features\n",
    "transformed_df = pd.DataFrame(index=content_based_df.index)\n",
    "transformed_df['text_features'] = content_based_df.apply(create_combined_feature, axis=1)"
   ]
  },
  {
   "cell_type": "code",
   "execution_count": 20,
   "id": "bb7e4f53",
   "metadata": {},
   "outputs": [],
   "source": [
    "### Apply TF-IDF vectorization to the text_features column\n",
    "     # This converts text-based feature to numerical format\n",
    "    \n",
    "vectorizer = TfidfVectorizer(stop_words='english')\n",
    "tfidf_matrix = vectorizer.fit_transform(transformed_df['text_features'])"
   ]
  },
  {
   "cell_type": "code",
   "execution_count": 21,
   "id": "532dc016",
   "metadata": {
    "scrolled": true
   },
   "outputs": [],
   "source": [
    "# Convert the TF-IDF matrix to a DataFrame\n",
    "tfidf_df = pd.DataFrame(tfidf_matrix.toarray(), columns=vectorizer.get_feature_names_out(), index=transformed_df.index)\n",
    "\n",
    "# Combine the transformed numerical and one-hot encoded features with the TF-IDF matrix\n",
    "all_transformed_features = pd.concat([transformed_df.drop('text_features', axis=1), tfidf_df], axis=1)\n",
    "all_transformed_features.dropna(inplace=True)\n",
    "\n",
    "# Calculate cosine similarity between movies\n",
    "cosine_sim = cosine_similarity(all_transformed_features, all_transformed_features)\n",
    "\n",
    "# Function for getting the recommendations given a specific movie and a specific similarity function\n",
    "def get_recommendations(title, min_rating=7, cosine_sim=cosine_sim):\n",
    "    idx = content_based_df[content_based_df['title_movies'] == title].index[0]\n",
    "\n",
    "    # Get the pairwise similarity scores of all movies with that movie\n",
    "    sim_scores = list(enumerate(cosine_sim[all_transformed_features.index.get_loc(idx)]))\n",
    "\n",
    "    # Sort the movies based on the similarity scores\n",
    "    sim_scores = sorted(sim_scores, key=lambda x: x[1], reverse=True)\n",
    "\n",
    "    # Get the scores of the movies that meet the minimum rating requirement\n",
    "    sim_scores = [score for score in sim_scores if content_based_df.loc[all_transformed_features.index[score[0]], 'vote_average'] >= min_rating]\n",
    "\n",
    "    # Get the scores of the 10 most similar movies\n",
    "    sim_scores = sim_scores[1:11]\n",
    "    sim_scores = [(i[0], i[1]) for i in sim_scores]\n",
    "\n",
    "    # Get the movie indices\n",
    "    movie_indices = [all_transformed_features.index[i[0]] for i in sim_scores]\n",
    "\n",
    "    # Get the top 10 most similar movies with their titles, similarity scores, and ratings\n",
    "    recommendations = content_based_df.loc[movie_indices, ['title_movies', 'vote_average']]\n",
    "    recommendations['similarity_score'] = [round(i[1], 4) for i in sim_scores]  # Round to 4 decimal places\n",
    "\n",
    "    # Reset the index and drop the original index\n",
    "    recommendations.reset_index(inplace=True, drop=True)\n",
    "    recommendations.index += 1\n",
    "\n",
    "    recommendations.columns = ['Movie Title', 'Voting Average', 'Similarity Score']\n",
    "    return recommendations\n"
   ]
  },
  {
   "cell_type": "code",
   "execution_count": 25,
   "id": "bc07dd2a",
   "metadata": {},
   "outputs": [
    {
     "name": "stdout",
     "output_type": "stream",
     "text": [
      "                                Movie Title  Voting Average  Similarity Score\n",
      "1                           The Dark Knight             8.2            0.3608\n",
      "2                     The Dark Knight Rises             7.6            0.3522\n",
      "3                                    Batman             7.0            0.3350\n",
      "4                                  Kick-Ass             7.1            0.1639\n",
      "5                              The Prestige             8.0            0.1590\n",
      "6   Batman: The Dark Knight Returns, Part 2             7.9            0.1342\n",
      "7                           The Incredibles             7.4            0.0979\n",
      "8                                  Iron Man             7.4            0.0899\n",
      "9                             The Godfather             8.4            0.0875\n",
      "10                                 Watchmen             7.0            0.0874\n"
     ]
    }
   ],
   "source": [
    "print(get_recommendations('Batman Begins'))"
   ]
  },
  {
   "cell_type": "code",
   "execution_count": 30,
   "id": "4c6ba216",
   "metadata": {},
   "outputs": [
    {
     "name": "stdout",
     "output_type": "stream",
     "text": [
      "                           Movie Title  Voting Average  Similarity Score\n",
      "1                      The Dark Knight             8.2            0.3608\n",
      "2                The Dark Knight Rises             7.6            0.3522\n",
      "3                               Batman             7.0            0.3350\n",
      "4                       Batman Returns             6.6            0.2925\n",
      "5                       Batman & Robin             4.2            0.2598\n",
      "6   Batman v Superman: Dawn of Justice             5.7            0.2522\n",
      "7                       Batman Forever             5.2            0.2090\n",
      "8                         Man of Steel             6.5            0.1750\n",
      "9                             Defendor             6.5            0.1639\n",
      "10                            Kick-Ass             7.1            0.1639\n"
     ]
    }
   ],
   "source": [
    "print(get_recommendations('Batman Begins', min_rating=3))"
   ]
  },
  {
   "cell_type": "code",
   "execution_count": 24,
   "id": "d21a8ef0",
   "metadata": {},
   "outputs": [
    {
     "name": "stdout",
     "output_type": "stream",
     "text": [
      "                Movie Title  Voting Average  Similarity Score\n",
      "1                    Aliens             7.7            0.3087\n",
      "2                     Alien             7.9            0.2457\n",
      "3           Treasure Planet             7.2            0.2258\n",
      "4   Star Trek Into Darkness             7.4            0.2103\n",
      "5                 The Thing             7.8            0.2002\n",
      "6                   Gattaca             7.5            0.1938\n",
      "7     2001: A Space Odyssey             7.9            0.1867\n",
      "8                   Gravity             7.3            0.1772\n",
      "9           The Right Stuff             7.3            0.1625\n",
      "10  Guardians of the Galaxy             7.9            0.1621\n"
     ]
    }
   ],
   "source": [
    "print(get_recommendations('Avatar'))"
   ]
  },
  {
   "cell_type": "code",
   "execution_count": 31,
   "id": "7a36272a",
   "metadata": {},
   "outputs": [
    {
     "name": "stdout",
     "output_type": "stream",
     "text": [
      "           Movie Title  Voting Average  Similarity Score\n",
      "1               Aliens             7.7            0.3087\n",
      "2               Alien³             6.2            0.2756\n",
      "3            Moonraker             5.9            0.2549\n",
      "4      Mission to Mars             5.7            0.2540\n",
      "5                Alien             7.9            0.2457\n",
      "6      Treasure Planet             7.2            0.2258\n",
      "7           Spaceballs             6.7            0.2245\n",
      "8            Lifeforce             6.2            0.2177\n",
      "9   Planet of the Apes             5.6            0.2139\n",
      "10             Lockout             5.8            0.2124\n"
     ]
    }
   ],
   "source": [
    "print(get_recommendations('Avatar', min_rating=3))"
   ]
  }
 ],
 "metadata": {
  "kernelspec": {
   "display_name": "Python 3 (ipykernel)",
   "language": "python",
   "name": "python3"
  },
  "language_info": {
   "codemirror_mode": {
    "name": "ipython",
    "version": 3
   },
   "file_extension": ".py",
   "mimetype": "text/x-python",
   "name": "python",
   "nbconvert_exporter": "python",
   "pygments_lexer": "ipython3",
   "version": "3.11.0"
  },
  "vscode": {
   "interpreter": {
    "hash": "d85861c7456c7dd163d8155dab1a7b1881dae34d4c9f83332713dd3ca3035b7c"
   }
  }
 },
 "nbformat": 4,
 "nbformat_minor": 5
}
