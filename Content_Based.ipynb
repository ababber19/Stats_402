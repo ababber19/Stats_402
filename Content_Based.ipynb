{
 "cells": [
  {
   "cell_type": "markdown",
   "id": "11a7ba23",
   "metadata": {},
   "source": [
    "# Data cleaning and preprocessing"
   ]
  },
  {
   "cell_type": "code",
   "execution_count": 1,
   "id": "b5451573",
   "metadata": {},
   "outputs": [],
   "source": [
    "import pandas as pd\n",
    "import numpy as np\n",
    "import seaborn as sns\n",
    "import ast\n",
    "from sklearn.feature_extraction.text import TfidfVectorizer\n",
    "from sklearn.metrics.pairwise import linear_kernel"
   ]
  },
  {
   "cell_type": "code",
   "execution_count": 2,
   "id": "0a861103",
   "metadata": {},
   "outputs": [],
   "source": [
    "# Commented dfs are not needed\n",
    "movies = pd.read_csv(\"tmdb_5000_movies.csv\")\n",
    "credits = pd.read_csv(\"tmdb_5000_credits.csv\")\n",
    "keywords = pd.read_csv(\"keywords.csv\")\n",
    "# ratings = pd.read_csv(\"ratings.csv\")\n",
    "# links = pd.read_csv(\"links.csv\")\n",
    "# metadata = pd.read_csv(\"movies_metadata.csv\")"
   ]
  },
  {
   "cell_type": "code",
   "execution_count": 3,
   "id": "4581ab36",
   "metadata": {},
   "outputs": [
    {
     "name": "stdout",
     "output_type": "stream",
     "text": [
      "Movies dataset:\n",
      "<class 'pandas.core.frame.DataFrame'>\n",
      "RangeIndex: 4803 entries, 0 to 4802\n",
      "Data columns (total 20 columns):\n",
      " #   Column                Non-Null Count  Dtype  \n",
      "---  ------                --------------  -----  \n",
      " 0   budget                4803 non-null   int64  \n",
      " 1   genres                4803 non-null   object \n",
      " 2   homepage              1712 non-null   object \n",
      " 3   id                    4803 non-null   int64  \n",
      " 4   keywords              4803 non-null   object \n",
      " 5   original_language     4803 non-null   object \n",
      " 6   original_title        4803 non-null   object \n",
      " 7   overview              4800 non-null   object \n",
      " 8   popularity            4803 non-null   float64\n",
      " 9   production_companies  4803 non-null   object \n",
      " 10  production_countries  4803 non-null   object \n",
      " 11  release_date          4802 non-null   object \n",
      " 12  revenue               4803 non-null   int64  \n",
      " 13  runtime               4801 non-null   float64\n",
      " 14  spoken_languages      4803 non-null   object \n",
      " 15  status                4803 non-null   object \n",
      " 16  tagline               3959 non-null   object \n",
      " 17  title                 4803 non-null   object \n",
      " 18  vote_average          4803 non-null   float64\n",
      " 19  vote_count            4803 non-null   int64  \n",
      "dtypes: float64(3), int64(4), object(13)\n",
      "memory usage: 750.6+ KB\n",
      "None\n",
      "\n",
      "Credits dataset:\n",
      "<class 'pandas.core.frame.DataFrame'>\n",
      "RangeIndex: 4803 entries, 0 to 4802\n",
      "Data columns (total 4 columns):\n",
      " #   Column    Non-Null Count  Dtype \n",
      "---  ------    --------------  ----- \n",
      " 0   movie_id  4803 non-null   int64 \n",
      " 1   title     4803 non-null   object\n",
      " 2   cast      4803 non-null   object\n",
      " 3   crew      4803 non-null   object\n",
      "dtypes: int64(1), object(3)\n",
      "memory usage: 150.2+ KB\n",
      "None\n",
      "\n",
      "Keywords dataset:\n",
      "<class 'pandas.core.frame.DataFrame'>\n",
      "RangeIndex: 46419 entries, 0 to 46418\n",
      "Data columns (total 2 columns):\n",
      " #   Column    Non-Null Count  Dtype \n",
      "---  ------    --------------  ----- \n",
      " 0   id        46419 non-null  int64 \n",
      " 1   keywords  46419 non-null  object\n",
      "dtypes: int64(1), object(1)\n",
      "memory usage: 725.4+ KB\n",
      "None\n"
     ]
    }
   ],
   "source": [
    "# Examine the datasets\n",
    "print(\"Movies dataset:\")\n",
    "# print(movies.head())\n",
    "print(movies.info())\n",
    "\n",
    "print(\"\\nCredits dataset:\")\n",
    "# print(credits.head())\n",
    "print(credits.info())\n",
    "\n",
    "print(\"\\nKeywords dataset:\")\n",
    "# print(keywords.head())\n",
    "print(keywords.info())\n",
    "\n",
    "# print(\"\\nRatings dataset:\")\n",
    "# print(ratings.head())\n",
    "# print(ratings.info())\n",
    "\n",
    "# print(\"\\nLinks dataset:\")\n",
    "# print(links.head())\n",
    "# print(links.info())\n",
    "\n",
    "# print(\"\\nMetadata dataset:\")\n",
    "# print(metadata.head())\n",
    "# print(metadata.info())"
   ]
  },
  {
   "cell_type": "code",
   "execution_count": 4,
   "id": "5e952344",
   "metadata": {},
   "outputs": [],
   "source": [
    "# Handle missing values\n",
    "# Only released movies to consider (not rumored, post-production)\n",
    "\n",
    "movies.fillna(\"\", inplace=True)\n",
    "movies = movies[movies[\"status\"]==\"Released\"]\n",
    "movies = movies.drop(columns=[\"homepage\", \"overview\", \"tagline\", \"status\"])\n",
    "\n",
    "\n",
    "credits.fillna(\"\", inplace=True)\n",
    "keywords.fillna(\"\", inplace=True)\n",
    "# ratings.fillna(\"\", inplace=True)\n",
    "# links.fillna(\"\", inplace=True)\n",
    "# metadata.fillna(\"\", inplace=True)"
   ]
  },
  {
   "cell_type": "code",
   "execution_count": 5,
   "id": "91f972bc",
   "metadata": {},
   "outputs": [],
   "source": [
    "# Function to get names from dicts of ids and names (applies to many columns in our data)\n",
    "    # change 'name' to 'id' if 'id' is wanted instead\n",
    "def extract_names(column_data):\n",
    "    column_data = ast.literal_eval(column_data)\n",
    "    names = [data['name'] for data in column_data]\n",
    "    return names"
   ]
  },
  {
   "cell_type": "code",
   "execution_count": 6,
   "id": "ef4c5643",
   "metadata": {
    "scrolled": true
   },
   "outputs": [],
   "source": [
    "# Prepares content_based_df\n",
    "# Completes the following:\n",
    "    # merges movies, credits, and keywords\n",
    "    # cleans columns to get desired results\n",
    "\n",
    "content_based_df = movies.merge(credits, left_on=\"id\", right_on=\"movie_id\", suffixes=(\"_movies\", \"_credits\"))\n",
    "content_based_df.drop(columns=[\"title_credits\", \"movie_id\"], inplace=True)\n",
    "\n",
    "content_based_df = content_based_df.merge(keywords, on=\"id\", suffixes=(\"\", \"_keywords\"))\n",
    "content_based_df.drop(columns=[\"keywords\"], inplace=True)\n",
    "content_based_df.rename(columns={\"keywords_keywords\": \"keywords\"}, inplace=True)\n",
    "\n",
    "\n",
    "columns_to_clean = [\n",
    "    'genres', 'production_companies', 'production_countries',\n",
    "    'spoken_languages', 'cast', 'crew', 'keywords'\n",
    "]\n",
    "\n",
    "for column in columns_to_clean:\n",
    "    content_based_df[column] = content_based_df[column].apply(extract_names)\n",
    "\n",
    "content_based_df['release_date'] = pd.to_datetime(content_based_df['release_date'])\n",
    "\n",
    "# Produces df with following columns (all 100% ready for next steps):\n",
    "# ['budget', 'genres', 'id', 'original_language', 'original_title',\n",
    "#       'popularity', 'production_companies', 'production_countries',\n",
    "#       'release_date', 'revenue', 'runtime', 'spoken_languages',\n",
    "#       'title_movies', 'vote_average', 'vote_count', 'cast', 'crew',\n",
    "#       'keywords']"
   ]
  },
  {
   "cell_type": "code",
   "execution_count": 7,
   "id": "1a4f215c",
   "metadata": {},
   "outputs": [
    {
     "data": {
      "text/plain": [
       "Index(['budget', 'genres', 'id', 'original_language', 'original_title',\n",
       "       'popularity', 'production_companies', 'production_countries',\n",
       "       'release_date', 'revenue', 'runtime', 'spoken_languages',\n",
       "       'title_movies', 'vote_average', 'vote_count', 'cast', 'crew',\n",
       "       'keywords'],\n",
       "      dtype='object')"
      ]
     },
     "execution_count": 7,
     "metadata": {},
     "output_type": "execute_result"
    }
   ],
   "source": [
    "content_based_df.columns"
   ]
  },
  {
   "cell_type": "code",
   "execution_count": 8,
   "id": "a3e82648",
   "metadata": {
    "scrolled": true
   },
   "outputs": [],
   "source": [
    "# Step 1: Pre-process and combine relevant features\n",
    "def create_combined_feature(row):\n",
    "    return ' '.join(row['genres']) + ' ' + ' '.join(row['keywords']) + ' ' + ' '.join(row['cast'][:3]) + ' ' + ' '.join(row['crew'][:3])\n",
    "\n",
    "content_based_df['combined_feature'] = content_based_df.apply(create_combined_feature, axis=1)"
   ]
  },
  {
   "cell_type": "code",
   "execution_count": 20,
   "id": "b9be6b88",
   "metadata": {},
   "outputs": [
    {
     "name": "stdout",
     "output_type": "stream",
     "text": [
      "                  title_movies  vote_average  similarity_score\n",
      "1       The Life of David Gale           7.3          0.158781\n",
      "2   Ace Ventura: Pet Detective           6.4          0.149705\n",
      "3                      Weekend           7.4          0.139202\n",
      "4          You Can Count on Me           6.8          0.137511\n",
      "5               Bruce Almighty           6.4          0.128260\n",
      "6            Quantum of Solace           6.1          0.122899\n",
      "7              Man of the Year           5.8          0.117804\n",
      "8       Fun with Dick and Jane           5.9          0.112782\n",
      "9                   Waterworld           5.9          0.112480\n",
      "10          The Missing Person           6.4          0.110108\n"
     ]
    }
   ],
   "source": [
    "# Step 2: Convert text-based feature to numerical format using TF-IDF vectorization\n",
    "vectorizer = TfidfVectorizer(stop_words='english')\n",
    "tfidf_matrix = vectorizer.fit_transform(content_based_df['combined_feature'])\n",
    "\n",
    "# Step 3: Calculate cosine similarity between movies\n",
    "cosine_sim = linear_kernel(tfidf_matrix, tfidf_matrix)\n",
    "\n",
    "def get_recommendations(title, cosine_sim=cosine_sim):\n",
    "    # Get the index of the movie that matches the title\n",
    "    idx = content_based_df[content_based_df['title_movies'] == title].index[0]\n",
    "\n",
    "    # Get the pairwise similarity scores of all movies with that movie\n",
    "    sim_scores = list(enumerate(cosine_sim[idx]))\n",
    "\n",
    "    # Sort the movies based on the similarity scores\n",
    "    sim_scores = sorted(sim_scores, key=lambda x: x[1], reverse=True)\n",
    "\n",
    "    # Get the scores of the 10 most similar movies\n",
    "    sim_scores = sim_scores[1:11]\n",
    "\n",
    "    # Get the movie indices\n",
    "    movie_indices = [i[0] for i in sim_scores]\n",
    "\n",
    "    # Get the top 10 most similar movies with their titles, similarity scores, and ratings\n",
    "    recommendations = content_based_df[['title_movies', 'vote_average']].iloc[movie_indices]\n",
    "    recommendations['similarity_score'] = [i[1] for i in sim_scores]\n",
    "\n",
    "    # Reset the index and drop the original index\n",
    "    recommendations = recommendations.reset_index(drop=True)\n",
    "    recommendations.index += 1\n",
    "    \n",
    "    return recommendations\n",
    "\n",
    "# Example usage\n",
    "print(get_recommendations('The Truman Show'))"
   ]
  },
  {
   "cell_type": "code",
   "execution_count": 18,
   "id": "c8877c64",
   "metadata": {},
   "outputs": [
    {
     "data": {
      "text/html": [
       "<div>\n",
       "<style scoped>\n",
       "    .dataframe tbody tr th:only-of-type {\n",
       "        vertical-align: middle;\n",
       "    }\n",
       "\n",
       "    .dataframe tbody tr th {\n",
       "        vertical-align: top;\n",
       "    }\n",
       "\n",
       "    .dataframe thead th {\n",
       "        text-align: right;\n",
       "    }\n",
       "</style>\n",
       "<table border=\"1\" class=\"dataframe\">\n",
       "  <thead>\n",
       "    <tr style=\"text-align: right;\">\n",
       "      <th></th>\n",
       "      <th>budget</th>\n",
       "      <th>genres</th>\n",
       "      <th>id</th>\n",
       "      <th>original_language</th>\n",
       "      <th>original_title</th>\n",
       "      <th>popularity</th>\n",
       "      <th>production_companies</th>\n",
       "      <th>production_countries</th>\n",
       "      <th>release_date</th>\n",
       "      <th>revenue</th>\n",
       "      <th>runtime</th>\n",
       "      <th>spoken_languages</th>\n",
       "      <th>title_movies</th>\n",
       "      <th>vote_average</th>\n",
       "      <th>vote_count</th>\n",
       "      <th>cast</th>\n",
       "      <th>crew</th>\n",
       "      <th>keywords</th>\n",
       "      <th>combined_feature</th>\n",
       "    </tr>\n",
       "  </thead>\n",
       "  <tbody>\n",
       "    <tr>\n",
       "      <th>698</th>\n",
       "      <td>60000000</td>\n",
       "      <td>[Comedy, Drama]</td>\n",
       "      <td>37165</td>\n",
       "      <td>en</td>\n",
       "      <td>The Truman Show</td>\n",
       "      <td>56.488027</td>\n",
       "      <td>[Paramount Pictures, Scott Rudin Productions]</td>\n",
       "      <td>[United States of America]</td>\n",
       "      <td>1998-06-04</td>\n",
       "      <td>264118201</td>\n",
       "      <td>103.0</td>\n",
       "      <td>[English]</td>\n",
       "      <td>The Truman Show</td>\n",
       "      <td>7.8</td>\n",
       "      <td>4537</td>\n",
       "      <td>[Jim Carrey, Laura Linney, Noah Emmerich, Nata...</td>\n",
       "      <td>[Nancy Haigh, Dennis Gassner, Howard Feuer, Pe...</td>\n",
       "      <td>[claustrophobia, hidden camera, dystopia, real...</td>\n",
       "      <td>Comedy Drama claustrophobia hidden camera dyst...</td>\n",
       "    </tr>\n",
       "  </tbody>\n",
       "</table>\n",
       "</div>"
      ],
      "text/plain": [
       "       budget           genres     id original_language   original_title  \\\n",
       "698  60000000  [Comedy, Drama]  37165                en  The Truman Show   \n",
       "\n",
       "     popularity                           production_companies  \\\n",
       "698   56.488027  [Paramount Pictures, Scott Rudin Productions]   \n",
       "\n",
       "           production_countries release_date    revenue runtime  \\\n",
       "698  [United States of America]   1998-06-04  264118201   103.0   \n",
       "\n",
       "    spoken_languages     title_movies  vote_average  vote_count  \\\n",
       "698        [English]  The Truman Show           7.8        4537   \n",
       "\n",
       "                                                  cast  \\\n",
       "698  [Jim Carrey, Laura Linney, Noah Emmerich, Nata...   \n",
       "\n",
       "                                                  crew  \\\n",
       "698  [Nancy Haigh, Dennis Gassner, Howard Feuer, Pe...   \n",
       "\n",
       "                                              keywords  \\\n",
       "698  [claustrophobia, hidden camera, dystopia, real...   \n",
       "\n",
       "                                      combined_feature  \n",
       "698  Comedy Drama claustrophobia hidden camera dyst...  "
      ]
     },
     "execution_count": 18,
     "metadata": {},
     "output_type": "execute_result"
    }
   ],
   "source": [
    "content_based_df[content_based_df[\"title_movies\"].str.contains(\"Truman\")]"
   ]
  }
 ],
 "metadata": {
  "kernelspec": {
   "display_name": "Python 3 (ipykernel)",
   "language": "python",
   "name": "python3"
  },
  "language_info": {
   "codemirror_mode": {
    "name": "ipython",
    "version": 3
   },
   "file_extension": ".py",
   "mimetype": "text/x-python",
   "name": "python",
   "nbconvert_exporter": "python",
   "pygments_lexer": "ipython3",
   "version": "3.11.0"
  },
  "vscode": {
   "interpreter": {
    "hash": "d85861c7456c7dd163d8155dab1a7b1881dae34d4c9f83332713dd3ca3035b7c"
   }
  }
 },
 "nbformat": 4,
 "nbformat_minor": 5
}
